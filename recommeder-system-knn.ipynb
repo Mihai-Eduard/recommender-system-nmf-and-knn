{
 "cells": [
  {
   "cell_type": "code",
   "execution_count": 1,
   "id": "initial_id",
   "metadata": {
    "collapsed": true,
    "ExecuteTime": {
     "end_time": "2024-01-07T01:26:30.441920400Z",
     "start_time": "2024-01-07T01:26:26.832023600Z"
    }
   },
   "outputs": [],
   "source": [
    "# Import the libraries we will be using\n",
    "import numpy as np\n",
    "import pandas as pd\n",
    "import matplotlib.pyplot as plt"
   ]
  },
  {
   "cell_type": "code",
   "execution_count": 2,
   "outputs": [],
   "source": [
    "# Define the file paths for training and test data\n",
    "train_file_path = 'lab2_train.csv'\n",
    "test_file_path = 'lab2_test.csv'\n",
    "\n",
    "# Import training and test data\n",
    "train_data = pd.read_csv(train_file_path, delimiter=',')\n",
    "test_data = pd.read_csv(test_file_path, delimiter=',')"
   ],
   "metadata": {
    "collapsed": false,
    "ExecuteTime": {
     "end_time": "2024-01-07T01:26:30.545042Z",
     "start_time": "2024-01-07T01:26:30.431097700Z"
    }
   },
   "id": "4024db8c665a60a4"
  },
  {
   "cell_type": "code",
   "execution_count": 3,
   "outputs": [
    {
     "data": {
      "text/plain": "   user_from_id  user_to_id  is_like is_match\n0          1136        3141    False    False\n1          2424        3174    False    False\n2          1300        3590    False    False\n3           800        2736    False    False\n4           883         437    False    False",
      "text/html": "<div>\n<style scoped>\n    .dataframe tbody tr th:only-of-type {\n        vertical-align: middle;\n    }\n\n    .dataframe tbody tr th {\n        vertical-align: top;\n    }\n\n    .dataframe thead th {\n        text-align: right;\n    }\n</style>\n<table border=\"1\" class=\"dataframe\">\n  <thead>\n    <tr style=\"text-align: right;\">\n      <th></th>\n      <th>user_from_id</th>\n      <th>user_to_id</th>\n      <th>is_like</th>\n      <th>is_match</th>\n    </tr>\n  </thead>\n  <tbody>\n    <tr>\n      <th>0</th>\n      <td>1136</td>\n      <td>3141</td>\n      <td>False</td>\n      <td>False</td>\n    </tr>\n    <tr>\n      <th>1</th>\n      <td>2424</td>\n      <td>3174</td>\n      <td>False</td>\n      <td>False</td>\n    </tr>\n    <tr>\n      <th>2</th>\n      <td>1300</td>\n      <td>3590</td>\n      <td>False</td>\n      <td>False</td>\n    </tr>\n    <tr>\n      <th>3</th>\n      <td>800</td>\n      <td>2736</td>\n      <td>False</td>\n      <td>False</td>\n    </tr>\n    <tr>\n      <th>4</th>\n      <td>883</td>\n      <td>437</td>\n      <td>False</td>\n      <td>False</td>\n    </tr>\n  </tbody>\n</table>\n</div>"
     },
     "execution_count": 3,
     "metadata": {},
     "output_type": "execute_result"
    }
   ],
   "source": [
    "train_data.head()"
   ],
   "metadata": {
    "collapsed": false,
    "ExecuteTime": {
     "end_time": "2024-01-07T01:26:30.575907700Z",
     "start_time": "2024-01-07T01:26:30.556127Z"
    }
   },
   "id": "3ae3959ae721c750"
  },
  {
   "cell_type": "code",
   "execution_count": 4,
   "outputs": [],
   "source": [
    "pivot = pd.pivot_table(train_data, index='user_from_id', columns='user_to_id', values='is_like', fill_value=np.nan)"
   ],
   "metadata": {
    "collapsed": false,
    "ExecuteTime": {
     "end_time": "2024-01-07T01:26:31.039344Z",
     "start_time": "2024-01-07T01:26:30.575907700Z"
    }
   },
   "id": "3be41ecccaa88b17"
  },
  {
   "cell_type": "code",
   "execution_count": 5,
   "outputs": [
    {
     "data": {
      "text/plain": "user_to_id      0    1   2   3   4   5   6   7   8   9\nuser_from_id                                          \n1             NaN  NaN NaN NaN NaN NaN NaN NaN NaN NaN\n2             0.0  NaN NaN NaN NaN NaN NaN NaN NaN NaN\n3             NaN  NaN NaN NaN NaN NaN NaN NaN NaN NaN\n4             0.0  NaN NaN NaN NaN NaN NaN NaN NaN NaN\n5             NaN  NaN NaN NaN NaN NaN NaN NaN NaN NaN\n6             0.0  NaN NaN NaN NaN NaN NaN NaN NaN NaN\n7             NaN  NaN NaN NaN NaN NaN NaN NaN NaN NaN\n8             NaN  NaN NaN NaN NaN NaN NaN NaN NaN NaN\n9             NaN  0.0 NaN NaN NaN NaN NaN NaN NaN NaN\n10            NaN  NaN NaN NaN NaN NaN NaN NaN NaN NaN",
      "text/html": "<div>\n<style scoped>\n    .dataframe tbody tr th:only-of-type {\n        vertical-align: middle;\n    }\n\n    .dataframe tbody tr th {\n        vertical-align: top;\n    }\n\n    .dataframe thead th {\n        text-align: right;\n    }\n</style>\n<table border=\"1\" class=\"dataframe\">\n  <thead>\n    <tr style=\"text-align: right;\">\n      <th>user_to_id</th>\n      <th>0</th>\n      <th>1</th>\n      <th>2</th>\n      <th>3</th>\n      <th>4</th>\n      <th>5</th>\n      <th>6</th>\n      <th>7</th>\n      <th>8</th>\n      <th>9</th>\n    </tr>\n    <tr>\n      <th>user_from_id</th>\n      <th></th>\n      <th></th>\n      <th></th>\n      <th></th>\n      <th></th>\n      <th></th>\n      <th></th>\n      <th></th>\n      <th></th>\n      <th></th>\n    </tr>\n  </thead>\n  <tbody>\n    <tr>\n      <th>1</th>\n      <td>NaN</td>\n      <td>NaN</td>\n      <td>NaN</td>\n      <td>NaN</td>\n      <td>NaN</td>\n      <td>NaN</td>\n      <td>NaN</td>\n      <td>NaN</td>\n      <td>NaN</td>\n      <td>NaN</td>\n    </tr>\n    <tr>\n      <th>2</th>\n      <td>0.0</td>\n      <td>NaN</td>\n      <td>NaN</td>\n      <td>NaN</td>\n      <td>NaN</td>\n      <td>NaN</td>\n      <td>NaN</td>\n      <td>NaN</td>\n      <td>NaN</td>\n      <td>NaN</td>\n    </tr>\n    <tr>\n      <th>3</th>\n      <td>NaN</td>\n      <td>NaN</td>\n      <td>NaN</td>\n      <td>NaN</td>\n      <td>NaN</td>\n      <td>NaN</td>\n      <td>NaN</td>\n      <td>NaN</td>\n      <td>NaN</td>\n      <td>NaN</td>\n    </tr>\n    <tr>\n      <th>4</th>\n      <td>0.0</td>\n      <td>NaN</td>\n      <td>NaN</td>\n      <td>NaN</td>\n      <td>NaN</td>\n      <td>NaN</td>\n      <td>NaN</td>\n      <td>NaN</td>\n      <td>NaN</td>\n      <td>NaN</td>\n    </tr>\n    <tr>\n      <th>5</th>\n      <td>NaN</td>\n      <td>NaN</td>\n      <td>NaN</td>\n      <td>NaN</td>\n      <td>NaN</td>\n      <td>NaN</td>\n      <td>NaN</td>\n      <td>NaN</td>\n      <td>NaN</td>\n      <td>NaN</td>\n    </tr>\n    <tr>\n      <th>6</th>\n      <td>0.0</td>\n      <td>NaN</td>\n      <td>NaN</td>\n      <td>NaN</td>\n      <td>NaN</td>\n      <td>NaN</td>\n      <td>NaN</td>\n      <td>NaN</td>\n      <td>NaN</td>\n      <td>NaN</td>\n    </tr>\n    <tr>\n      <th>7</th>\n      <td>NaN</td>\n      <td>NaN</td>\n      <td>NaN</td>\n      <td>NaN</td>\n      <td>NaN</td>\n      <td>NaN</td>\n      <td>NaN</td>\n      <td>NaN</td>\n      <td>NaN</td>\n      <td>NaN</td>\n    </tr>\n    <tr>\n      <th>8</th>\n      <td>NaN</td>\n      <td>NaN</td>\n      <td>NaN</td>\n      <td>NaN</td>\n      <td>NaN</td>\n      <td>NaN</td>\n      <td>NaN</td>\n      <td>NaN</td>\n      <td>NaN</td>\n      <td>NaN</td>\n    </tr>\n    <tr>\n      <th>9</th>\n      <td>NaN</td>\n      <td>0.0</td>\n      <td>NaN</td>\n      <td>NaN</td>\n      <td>NaN</td>\n      <td>NaN</td>\n      <td>NaN</td>\n      <td>NaN</td>\n      <td>NaN</td>\n      <td>NaN</td>\n    </tr>\n    <tr>\n      <th>10</th>\n      <td>NaN</td>\n      <td>NaN</td>\n      <td>NaN</td>\n      <td>NaN</td>\n      <td>NaN</td>\n      <td>NaN</td>\n      <td>NaN</td>\n      <td>NaN</td>\n      <td>NaN</td>\n      <td>NaN</td>\n    </tr>\n  </tbody>\n</table>\n</div>"
     },
     "execution_count": 5,
     "metadata": {},
     "output_type": "execute_result"
    }
   ],
   "source": [
    "pivot.iloc[0:10, 0:10]"
   ],
   "metadata": {
    "collapsed": false,
    "ExecuteTime": {
     "end_time": "2024-01-07T01:26:31.086001700Z",
     "start_time": "2024-01-07T01:26:31.042343Z"
    }
   },
   "id": "35ace09a76879591"
  },
  {
   "cell_type": "code",
   "execution_count": 6,
   "outputs": [
    {
     "name": "stdout",
     "output_type": "stream",
     "text": [
      "3149\n",
      "3040\n"
     ]
    }
   ],
   "source": [
    "users_from_ids = pivot.index.values\n",
    "print(len(users_from_ids))\n",
    "users_to_ids = pivot.columns.values\n",
    "print(len(users_to_ids))"
   ],
   "metadata": {
    "collapsed": false,
    "ExecuteTime": {
     "end_time": "2024-01-07T01:26:35.952247800Z",
     "start_time": "2024-01-07T01:26:35.897949500Z"
    }
   },
   "id": "f2cc4d3d1ddd1e17"
  },
  {
   "cell_type": "code",
   "execution_count": 7,
   "outputs": [],
   "source": [
    "# intersection 1-1\n",
    "# union 1-0, 1-1, 0-1\n",
    "def get_Jaccard_similarity(row_1, row_2):\n",
    "    intersection = np.sum((row_1 == row_2) & (row_1 == 1))\n",
    "    union = np.sum((~np.isnan(row_1) & ~np.isnan(row_2)) & ((row_1 == 1) | (row_2 == 1)))\n",
    "    if union == 0:\n",
    "        return 0\n",
    "    return intersection / union"
   ],
   "metadata": {
    "collapsed": false,
    "ExecuteTime": {
     "end_time": "2024-01-06T02:23:45.836875800Z",
     "start_time": "2024-01-06T02:23:45.808349900Z"
    }
   },
   "id": "4c43734997ef4ce1"
  },
  {
   "cell_type": "code",
   "execution_count": 8,
   "outputs": [],
   "source": [
    "def get_k_nearest_neighbors_rows(user_id):\n",
    "    user_row = pivot.loc[user_id]\n",
    "    similarities = pivot.apply(lambda row: get_Jaccard_similarity(user_row, row), axis=1)\n",
    "    similarities = similarities.sort_values(ascending=False)\n",
    "    return similarities"
   ],
   "metadata": {
    "collapsed": false,
    "ExecuteTime": {
     "end_time": "2024-01-06T02:23:46.587397Z",
     "start_time": "2024-01-06T02:23:46.552337500Z"
    }
   },
   "id": "eadf0946c560d5d9"
  },
  {
   "cell_type": "code",
   "execution_count": 9,
   "outputs": [],
   "source": [
    "def get_k_nearest_neighbors_columns(user_id):\n",
    "    user_column = pivot[user_id]\n",
    "    similarities = pivot.apply(lambda column: get_Jaccard_similarity(user_column, column), axis=0)\n",
    "    similarities = similarities.sort_values(ascending=False)\n",
    "    return similarities"
   ],
   "metadata": {
    "collapsed": false,
    "ExecuteTime": {
     "end_time": "2024-01-06T02:23:47.233423Z",
     "start_time": "2024-01-06T02:23:47.204047500Z"
    }
   },
   "id": "3550a19e3c9b31fc"
  },
  {
   "cell_type": "code",
   "execution_count": 34,
   "outputs": [
    {
     "name": "stdout",
     "output_type": "stream",
     "text": [
      "3149/3149\r"
     ]
    }
   ],
   "source": [
    "sorted_similarities_rows = {}\n",
    "for i, user_id in enumerate(users_from_ids):\n",
    "    print(f'{i+1}/{len(users_from_ids)}', end='\\r')\n",
    "    sorted_similarities_rows[user_id] = get_k_nearest_neighbors_rows(user_id)"
   ],
   "metadata": {
    "collapsed": false,
    "ExecuteTime": {
     "end_time": "2023-12-24T04:13:09.032380700Z",
     "start_time": "2023-12-24T01:40:20.776370800Z"
    }
   },
   "id": "76288816d0a7c85c"
  },
  {
   "cell_type": "code",
   "execution_count": 35,
   "outputs": [
    {
     "name": "stdout",
     "output_type": "stream",
     "text": [
      "3040/3040\r"
     ]
    }
   ],
   "source": [
    "sorted_similarities_columns = {}\n",
    "for i, user_id in enumerate(users_to_ids):\n",
    "    print(f'{i+1}/{len(users_to_ids)}', end='\\r')\n",
    "    sorted_similarities_columns[user_id] = get_k_nearest_neighbors_columns(user_id)"
   ],
   "metadata": {
    "collapsed": false,
    "ExecuteTime": {
     "end_time": "2023-12-24T05:58:42.017225900Z",
     "start_time": "2023-12-24T04:13:09.041378Z"
    }
   },
   "id": "c828d4f39452065b"
  },
  {
   "cell_type": "code",
   "execution_count": 10,
   "outputs": [],
   "source": [
    "import pickle\n",
    "with open('rows.pickle', 'rb') as file:\n",
    "    sorted_similarities_rows = pickle.load(file)\n",
    "with open('columns.pickle', 'rb') as file:\n",
    "    sorted_similarities_columns = pickle.load(file)"
   ],
   "metadata": {
    "collapsed": false,
    "ExecuteTime": {
     "end_time": "2024-01-06T02:23:53.120233800Z",
     "start_time": "2024-01-06T02:23:51.093650500Z"
    }
   },
   "id": "53fa2a25e54150a4"
  },
  {
   "cell_type": "code",
   "execution_count": 36,
   "outputs": [],
   "source": [
    "# import pickle\n",
    "# with open('rows1.pickle', 'wb') as file:\n",
    "#     pickle.dump(sorted_similarities_rows, file)\n",
    "# with open('columns1.pickle', 'wb') as file:\n",
    "#     pickle.dump(sorted_similarities_columns, file)"
   ],
   "metadata": {
    "collapsed": false,
    "ExecuteTime": {
     "end_time": "2023-12-24T11:17:56.575659800Z",
     "start_time": "2023-12-24T11:17:54.612756300Z"
    }
   },
   "id": "12b0a10391fc82c7"
  },
  {
   "cell_type": "code",
   "execution_count": 11,
   "outputs": [
    {
     "data": {
      "text/plain": "user_from_id\n1       1.0\n3027    1.0\n1254    1.0\n3183    1.0\n1290    0.5\n       ... \n1095    0.0\n1096    0.0\n1097    0.0\n1098    0.0\n3716    0.0\nLength: 3149, dtype: float64"
     },
     "execution_count": 11,
     "metadata": {},
     "output_type": "execute_result"
    }
   ],
   "source": [
    "sorted_similarities_rows[1]"
   ],
   "metadata": {
    "collapsed": false,
    "ExecuteTime": {
     "end_time": "2024-01-06T02:23:56.985862500Z",
     "start_time": "2024-01-06T02:23:56.963641200Z"
    }
   },
   "id": "7e27673ec557e8fd"
  },
  {
   "cell_type": "code",
   "execution_count": 12,
   "outputs": [
    {
     "data": {
      "text/plain": "user_to_id\n2746    1.0\n1053    1.0\n2       1.0\n2980    1.0\n1424    1.0\n       ... \n1322    0.0\n1323    0.0\n1324    0.0\n1328    0.0\n3624    0.0\nLength: 3040, dtype: float64"
     },
     "execution_count": 12,
     "metadata": {},
     "output_type": "execute_result"
    }
   ],
   "source": [
    "sorted_similarities_columns[2]"
   ],
   "metadata": {
    "collapsed": false,
    "ExecuteTime": {
     "end_time": "2024-01-06T02:23:59.274086500Z",
     "start_time": "2024-01-06T02:23:59.206643Z"
    }
   },
   "id": "347a1818645d2c13"
  },
  {
   "cell_type": "code",
   "execution_count": 7,
   "outputs": [],
   "source": [
    "num_of_likes = {}\n",
    "for user_id in users_from_ids:\n",
    "    num_of_likes[user_id] = np.sum(pivot.loc[user_id] == 1)\n",
    "num_of_liked = {}\n",
    "for user_id in users_to_ids:\n",
    "    num_of_liked[user_id] = np.sum(pivot[user_id] == 1)"
   ],
   "metadata": {
    "collapsed": false,
    "ExecuteTime": {
     "end_time": "2024-01-07T01:26:49.984272500Z",
     "start_time": "2024-01-07T01:26:48.418168400Z"
    }
   },
   "id": "1a316f1726852054"
  },
  {
   "cell_type": "code",
   "execution_count": 8,
   "outputs": [
    {
     "name": "stdout",
     "output_type": "stream",
     "text": [
      "79\n",
      "57\n"
     ]
    }
   ],
   "source": [
    "print(max(num_of_likes.values()))\n",
    "print(max(num_of_liked.values()))"
   ],
   "metadata": {
    "collapsed": false,
    "ExecuteTime": {
     "end_time": "2024-01-07T01:26:51.399060600Z",
     "start_time": "2024-01-07T01:26:51.362526400Z"
    }
   },
   "id": "a483ebc1e138b35c"
  },
  {
   "cell_type": "code",
   "execution_count": 9,
   "outputs": [
    {
     "name": "stdout",
     "output_type": "stream",
     "text": [
      "1.0\n",
      "1.0\n",
      "3.8675770085741505\n",
      "4.00625\n"
     ]
    }
   ],
   "source": [
    "likes_median = np.median(list(num_of_likes.values()))\n",
    "print(likes_median)\n",
    "liked_median = np.median(list(num_of_liked.values()))\n",
    "print(liked_median)\n",
    "likes_mean = np.mean(list(num_of_likes.values()))\n",
    "print(likes_mean)\n",
    "liked_mean = np.mean(list(num_of_liked.values()))\n",
    "print(liked_mean)"
   ],
   "metadata": {
    "collapsed": false,
    "ExecuteTime": {
     "end_time": "2024-01-07T01:26:52.418118900Z",
     "start_time": "2024-01-07T01:26:52.356995100Z"
    }
   },
   "id": "1c1693b7844626f7"
  },
  {
   "cell_type": "code",
   "execution_count": 16,
   "outputs": [],
   "source": [
    "def get_first_k_choices_rows(user_from_id, user_to_id, k=None, s=None):\n",
    "    if (user_from_id not in users_from_ids) or (user_to_id not in users_to_ids):\n",
    "        return []\n",
    "    neighbors = sorted_similarities_rows[user_from_id]\n",
    "    choices = []\n",
    "    for neighbor_id, similarity in neighbors.items():\n",
    "        if pivot.loc[neighbor_id, user_to_id] == 1:\n",
    "            choices.append((neighbor_id, similarity, True))\n",
    "        if pivot.loc[neighbor_id, user_to_id] == 0:\n",
    "            choices.append((neighbor_id, similarity, False))\n",
    "        if k and len(choices) == k:\n",
    "            break\n",
    "        if s and similarity < s - 1e-6:\n",
    "            break\n",
    "    return choices"
   ],
   "metadata": {
    "collapsed": false,
    "ExecuteTime": {
     "end_time": "2024-01-06T02:24:17.415189600Z",
     "start_time": "2024-01-06T02:24:17.391816300Z"
    }
   },
   "id": "75c1813ee849ec0c"
  },
  {
   "cell_type": "code",
   "execution_count": 17,
   "outputs": [],
   "source": [
    "def get_first_k_choices_columns(user_from_id, user_to_id, k=None, s=None):\n",
    "    if (user_from_id not in users_from_ids) or (user_to_id not in users_to_ids):\n",
    "        return []\n",
    "    neighbors = sorted_similarities_columns[user_to_id]\n",
    "    choices = []\n",
    "    for neighbor_id, similarity in neighbors.items():\n",
    "        if pivot.loc[user_from_id, neighbor_id] == 1:\n",
    "            choices.append((neighbor_id, similarity, True))\n",
    "        if pivot.loc[user_from_id, neighbor_id] == 0:\n",
    "            choices.append((neighbor_id, similarity, False))\n",
    "        if k and len(choices) == k:\n",
    "            break\n",
    "        if s and similarity < s - 1e-6:\n",
    "            break\n",
    "    return choices"
   ],
   "metadata": {
    "collapsed": false,
    "ExecuteTime": {
     "end_time": "2024-01-06T02:24:17.810597300Z",
     "start_time": "2024-01-06T02:24:17.785914900Z"
    }
   },
   "id": "2a8778d035fb58ee"
  },
  {
   "cell_type": "code",
   "execution_count": 56,
   "outputs": [],
   "source": [
    "unknown = []\n",
    "def get_is_like(user_from_id, user_to_id) -> bool:\n",
    "    global unknown\n",
    "    if (user_from_id not in users_from_ids) and (user_to_id not in users_to_ids):\n",
    "        unknown.append((user_from_id, user_to_id))\n",
    "        return False\n",
    "    all_choices = get_first_k_choices_rows(user_from_id, user_to_id, s=0.1)\n",
    "    all_choices.extend(get_first_k_choices_columns(user_from_id, user_to_id, s=0.1))\n",
    "    choices = []\n",
    "    for choice in all_choices:\n",
    "        choices.append(choice[2])\n",
    "    if len(choices) == 0:\n",
    "        if user_from_id in users_from_ids:\n",
    "            return num_of_likes[user_from_id] >= 70\n",
    "        if user_to_id in users_to_ids:\n",
    "            return num_of_liked[user_to_id] >= 50\n",
    "        unknown.append((user_from_id, user_to_id))\n",
    "        return False\n",
    "    return np.mean(choices) >= 0.5"
   ],
   "metadata": {
    "collapsed": false,
    "ExecuteTime": {
     "end_time": "2024-01-06T03:04:58.554897100Z",
     "start_time": "2024-01-06T03:04:58.534887100Z"
    }
   },
   "id": "8ab13df941a3140c"
  },
  {
   "cell_type": "code",
   "execution_count": 57,
   "outputs": [
    {
     "name": "stdout",
     "output_type": "stream",
     "text": [
      "16203/16203\r"
     ]
    }
   ],
   "source": [
    "total, trues = 0, 0\n",
    "with open('submission.csv', 'w') as file:\n",
    "    file.write('index,is_like\\n')\n",
    "    for i in range(len(test_data)):\n",
    "        print(f'{i+1}/{len(test_data)}', end='\\r')\n",
    "        row = test_data.iloc[i]\n",
    "        user_from_id = row['user_from_id']\n",
    "        user_to_id = row['user_to_id']\n",
    "        is_like = get_is_like(user_from_id, user_to_id)\n",
    "        \n",
    "        if is_like:\n",
    "            trues += 1\n",
    "        total += 1\n",
    "        \n",
    "        file.write(f'{i},{is_like}\\n')"
   ],
   "metadata": {
    "collapsed": false,
    "ExecuteTime": {
     "end_time": "2024-01-06T03:05:15.263783100Z",
     "start_time": "2024-01-06T03:04:59.359913100Z"
    }
   },
   "id": "ae7c513f9f5852c1"
  },
  {
   "cell_type": "code",
   "execution_count": 58,
   "outputs": [
    {
     "name": "stdout",
     "output_type": "stream",
     "text": [
      "417\n"
     ]
    }
   ],
   "source": [
    "print(len(unknown))"
   ],
   "metadata": {
    "collapsed": false,
    "ExecuteTime": {
     "end_time": "2024-01-06T03:05:15.263783100Z",
     "start_time": "2024-01-06T03:05:15.258670600Z"
    }
   },
   "id": "7fac0f8b26f75ce9"
  },
  {
   "cell_type": "code",
   "execution_count": 59,
   "outputs": [
    {
     "name": "stdout",
     "output_type": "stream",
     "text": [
      "7.3628340430784425\n"
     ]
    }
   ],
   "source": [
    "print(trues/total*100)"
   ],
   "metadata": {
    "collapsed": false,
    "ExecuteTime": {
     "end_time": "2024-01-06T03:05:15.271884Z",
     "start_time": "2024-01-06T03:05:15.264768600Z"
    }
   },
   "id": "6ebec1e4b1dd5e40"
  },
  {
   "cell_type": "code",
   "execution_count": 80,
   "outputs": [],
   "source": [
    "import pickle\n",
    "with open('rows.pickle', 'wb') as file:\n",
    "    pickle.dump(sorted_similarities_rows, file)\n",
    "with open('columns.pickle', 'wb') as file:\n",
    "    pickle.dump(sorted_similarities_columns, file)"
   ],
   "metadata": {
    "collapsed": false,
    "ExecuteTime": {
     "end_time": "2023-12-23T21:35:59.247532500Z",
     "start_time": "2023-12-23T21:35:56.986649500Z"
    }
   },
   "id": "cd5433d2d24b4ddb"
  },
  {
   "cell_type": "code",
   "execution_count": 50,
   "outputs": [
    {
     "data": {
      "text/plain": "2"
     },
     "execution_count": 50,
     "metadata": {},
     "output_type": "execute_result"
    }
   ],
   "source": [
    "x = pivot.loc[1]\n",
    "y = pivot.loc[3027]\n",
    "z = ((~np.isnan(x)) & (~np.isnan(y)))"
   ],
   "metadata": {
    "collapsed": false,
    "ExecuteTime": {
     "end_time": "2023-12-23T18:54:12.169895600Z",
     "start_time": "2023-12-23T18:54:12.122353700Z"
    }
   },
   "id": "8e19b451f6320819"
  },
  {
   "cell_type": "code",
   "execution_count": null,
   "outputs": [],
   "source": [
    "users_total = max(users_from_ids.max(), users_to_ids.max())"
   ],
   "metadata": {
    "collapsed": false
   },
   "id": "f67a832dd608cc04"
  },
  {
   "cell_type": "code",
   "execution_count": 189,
   "outputs": [],
   "source": [
    "matrix = np.full((users_total+1, users_total+1), np.nan)"
   ],
   "metadata": {
    "collapsed": false,
    "ExecuteTime": {
     "start_time": "2023-12-19T00:33:09.415553200Z"
    }
   },
   "id": "db33b3696b5a17b4"
  },
  {
   "cell_type": "code",
   "execution_count": 190,
   "outputs": [],
   "source": [
    "for i in range(len(train_data)):\n",
    "    user_from_id = train_data.iloc[i]['user_from_id']\n",
    "    user_to_id = train_data.iloc[i]['user_to_id']\n",
    "    is_like = train_data.iloc[i]['is_like']\n",
    "    is_match = train_data.iloc[i]['is_match']\n",
    "    matrix[user_from_id, user_to_id] = is_like\n",
    "    if is_like == 1:\n",
    "        matrix[user_to_id, user_from_id] = is_match"
   ],
   "metadata": {
    "collapsed": false,
    "ExecuteTime": {
     "end_time": "2023-12-19T00:33:47.463813700Z",
     "start_time": "2023-12-19T00:33:35.378405200Z"
    }
   },
   "id": "eae760e079843272"
  },
  {
   "cell_type": "code",
   "execution_count": 191,
   "outputs": [],
   "source": [
    "def get_k_nearest_neighbors_rows_matrix(user_id):\n",
    "    user_row = matrix[user_id, :]\n",
    "    similarities = []\n",
    "    for i in range(users_total+1):\n",
    "        row = matrix[i, :]\n",
    "        similarity = get_Jaccard_similarity(user_row, row)\n",
    "        similarities.append((similarity, i))\n",
    "    similarities = sorted(similarities, key=lambda x: x[0], reverse=True)\n",
    "    return similarities"
   ],
   "metadata": {
    "collapsed": false,
    "ExecuteTime": {
     "end_time": "2023-12-19T00:33:48.858850500Z",
     "start_time": "2023-12-19T00:33:48.858850500Z"
    }
   },
   "id": "70c4651563c668b"
  },
  {
   "cell_type": "code",
   "execution_count": 192,
   "outputs": [],
   "source": [
    "def get_k_nearest_neighbors_columns_matrix(user_id):\n",
    "    user_column = matrix[:, user_id]\n",
    "    similarities = []\n",
    "    for i in range(users_total+1):\n",
    "        column = matrix[:, i]\n",
    "        similarity = get_Jaccard_similarity(user_column, column)\n",
    "        similarities.append((similarity, i))\n",
    "    similarities = sorted(similarities, key=lambda x: x[0], reverse=True)\n",
    "    return similarities"
   ],
   "metadata": {
    "collapsed": false,
    "ExecuteTime": {
     "end_time": "2023-12-19T00:33:52.340010900Z",
     "start_time": "2023-12-19T00:33:52.325423100Z"
    }
   },
   "id": "a95b7da53a17bced"
  },
  {
   "cell_type": "code",
   "execution_count": 193,
   "outputs": [
    {
     "name": "stdout",
     "output_type": "stream",
     "text": [
      "171/3716\r"
     ]
    },
    {
     "ename": "KeyboardInterrupt",
     "evalue": "",
     "output_type": "error",
     "traceback": [
      "\u001B[1;31m---------------------------------------------------------------------------\u001B[0m",
      "\u001B[1;31mKeyboardInterrupt\u001B[0m                         Traceback (most recent call last)",
      "Cell \u001B[1;32mIn[193], line 4\u001B[0m\n\u001B[0;32m      2\u001B[0m \u001B[38;5;28;01mfor\u001B[39;00m i \u001B[38;5;129;01min\u001B[39;00m \u001B[38;5;28mrange\u001B[39m(users_total\u001B[38;5;241m+\u001B[39m\u001B[38;5;241m1\u001B[39m):\n\u001B[0;32m      3\u001B[0m     \u001B[38;5;28mprint\u001B[39m(\u001B[38;5;124mf\u001B[39m\u001B[38;5;124m'\u001B[39m\u001B[38;5;132;01m{\u001B[39;00mi\u001B[38;5;132;01m}\u001B[39;00m\u001B[38;5;124m/\u001B[39m\u001B[38;5;132;01m{\u001B[39;00musers_total\u001B[38;5;132;01m}\u001B[39;00m\u001B[38;5;124m'\u001B[39m, end\u001B[38;5;241m=\u001B[39m\u001B[38;5;124m'\u001B[39m\u001B[38;5;130;01m\\r\u001B[39;00m\u001B[38;5;124m'\u001B[39m)\n\u001B[1;32m----> 4\u001B[0m     sorted_rows\u001B[38;5;241m.\u001B[39mappend(\u001B[43mget_k_nearest_neighbors_rows_matrix\u001B[49m\u001B[43m(\u001B[49m\u001B[43mi\u001B[49m\u001B[43m)\u001B[49m)\n",
      "Cell \u001B[1;32mIn[191], line 6\u001B[0m, in \u001B[0;36mget_k_nearest_neighbors_rows_matrix\u001B[1;34m(user_id)\u001B[0m\n\u001B[0;32m      4\u001B[0m \u001B[38;5;28;01mfor\u001B[39;00m i \u001B[38;5;129;01min\u001B[39;00m \u001B[38;5;28mrange\u001B[39m(users_total\u001B[38;5;241m+\u001B[39m\u001B[38;5;241m1\u001B[39m):\n\u001B[0;32m      5\u001B[0m     row \u001B[38;5;241m=\u001B[39m matrix[i, :]\n\u001B[1;32m----> 6\u001B[0m     similarity \u001B[38;5;241m=\u001B[39m \u001B[43mget_Jaccard_similarity\u001B[49m\u001B[43m(\u001B[49m\u001B[43muser_row\u001B[49m\u001B[43m,\u001B[49m\u001B[43m \u001B[49m\u001B[43mrow\u001B[49m\u001B[43m)\u001B[49m\n\u001B[0;32m      7\u001B[0m     similarities\u001B[38;5;241m.\u001B[39mappend((similarity, i))\n\u001B[0;32m      8\u001B[0m similarities \u001B[38;5;241m=\u001B[39m \u001B[38;5;28msorted\u001B[39m(similarities, key\u001B[38;5;241m=\u001B[39m\u001B[38;5;28;01mlambda\u001B[39;00m x: x[\u001B[38;5;241m0\u001B[39m], reverse\u001B[38;5;241m=\u001B[39m\u001B[38;5;28;01mTrue\u001B[39;00m)\n",
      "Cell \u001B[1;32mIn[62], line 2\u001B[0m, in \u001B[0;36mget_Jaccard_similarity\u001B[1;34m(row_1, row_2)\u001B[0m\n\u001B[0;32m      1\u001B[0m \u001B[38;5;28;01mdef\u001B[39;00m \u001B[38;5;21mget_Jaccard_similarity\u001B[39m(row_1, row_2):\n\u001B[1;32m----> 2\u001B[0m     intersection \u001B[38;5;241m=\u001B[39m \u001B[43mnp\u001B[49m\u001B[38;5;241;43m.\u001B[39;49m\u001B[43msum\u001B[49m\u001B[43m(\u001B[49m\u001B[43mrow_1\u001B[49m\u001B[43m \u001B[49m\u001B[38;5;241;43m==\u001B[39;49m\u001B[43m \u001B[49m\u001B[43mrow_2\u001B[49m\u001B[43m)\u001B[49m\n\u001B[0;32m      3\u001B[0m     union \u001B[38;5;241m=\u001B[39m np\u001B[38;5;241m.\u001B[39msum((\u001B[38;5;241m~\u001B[39mnp\u001B[38;5;241m.\u001B[39misnan(row_1)) \u001B[38;5;241m&\u001B[39m (\u001B[38;5;241m~\u001B[39mnp\u001B[38;5;241m.\u001B[39misnan(row_2)))\n\u001B[0;32m      4\u001B[0m     \u001B[38;5;28;01mif\u001B[39;00m union \u001B[38;5;241m==\u001B[39m \u001B[38;5;241m0\u001B[39m:\n",
      "File \u001B[1;32m~\\Desktop\\kaggle2\\venv\\Lib\\site-packages\\numpy\\core\\fromnumeric.py:2172\u001B[0m, in \u001B[0;36m_sum_dispatcher\u001B[1;34m(a, axis, dtype, out, keepdims, initial, where)\u001B[0m\n\u001B[0;32m   2102\u001B[0m \u001B[38;5;250m    \u001B[39m\u001B[38;5;124;03m\"\"\"\u001B[39;00m\n\u001B[0;32m   2103\u001B[0m \u001B[38;5;124;03m    Clip (limit) the values in an array.\u001B[39;00m\n\u001B[0;32m   2104\u001B[0m \n\u001B[1;32m   (...)\u001B[0m\n\u001B[0;32m   2167\u001B[0m \n\u001B[0;32m   2168\u001B[0m \u001B[38;5;124;03m    \"\"\"\u001B[39;00m\n\u001B[0;32m   2169\u001B[0m     \u001B[38;5;28;01mreturn\u001B[39;00m _wrapfunc(a, \u001B[38;5;124m'\u001B[39m\u001B[38;5;124mclip\u001B[39m\u001B[38;5;124m'\u001B[39m, a_min, a_max, out\u001B[38;5;241m=\u001B[39mout, \u001B[38;5;241m*\u001B[39m\u001B[38;5;241m*\u001B[39mkwargs)\n\u001B[1;32m-> 2172\u001B[0m \u001B[38;5;28;01mdef\u001B[39;00m \u001B[38;5;21m_sum_dispatcher\u001B[39m(a, axis\u001B[38;5;241m=\u001B[39m\u001B[38;5;28;01mNone\u001B[39;00m, dtype\u001B[38;5;241m=\u001B[39m\u001B[38;5;28;01mNone\u001B[39;00m, out\u001B[38;5;241m=\u001B[39m\u001B[38;5;28;01mNone\u001B[39;00m, keepdims\u001B[38;5;241m=\u001B[39m\u001B[38;5;28;01mNone\u001B[39;00m,\n\u001B[0;32m   2173\u001B[0m                     initial\u001B[38;5;241m=\u001B[39m\u001B[38;5;28;01mNone\u001B[39;00m, where\u001B[38;5;241m=\u001B[39m\u001B[38;5;28;01mNone\u001B[39;00m):\n\u001B[0;32m   2174\u001B[0m     \u001B[38;5;28;01mreturn\u001B[39;00m (a, out)\n\u001B[0;32m   2177\u001B[0m \u001B[38;5;129m@array_function_dispatch\u001B[39m(_sum_dispatcher)\n\u001B[0;32m   2178\u001B[0m \u001B[38;5;28;01mdef\u001B[39;00m \u001B[38;5;21msum\u001B[39m(a, axis\u001B[38;5;241m=\u001B[39m\u001B[38;5;28;01mNone\u001B[39;00m, dtype\u001B[38;5;241m=\u001B[39m\u001B[38;5;28;01mNone\u001B[39;00m, out\u001B[38;5;241m=\u001B[39m\u001B[38;5;28;01mNone\u001B[39;00m, keepdims\u001B[38;5;241m=\u001B[39mnp\u001B[38;5;241m.\u001B[39m_NoValue,\n\u001B[0;32m   2179\u001B[0m         initial\u001B[38;5;241m=\u001B[39mnp\u001B[38;5;241m.\u001B[39m_NoValue, where\u001B[38;5;241m=\u001B[39mnp\u001B[38;5;241m.\u001B[39m_NoValue):\n",
      "\u001B[1;31mKeyboardInterrupt\u001B[0m: "
     ]
    }
   ],
   "source": [
    "sorted_rows = []\n",
    "for i in range(users_total+1):\n",
    "    print(f'{i}/{users_total}', end='\\r')\n",
    "    sorted_rows.append(get_k_nearest_neighbors_rows_matrix(i))"
   ],
   "metadata": {
    "collapsed": false,
    "ExecuteTime": {
     "end_time": "2023-12-19T00:34:17.503940Z",
     "start_time": "2023-12-19T00:34:02.375682100Z"
    }
   },
   "id": "dbcbb383377927d9"
  },
  {
   "cell_type": "code",
   "execution_count": null,
   "outputs": [],
   "source": [
    "sorted_columns = []\n",
    "for i in range(users_total+1):\n",
    "    print(f'{i}/{users_total}', end='\\r')\n",
    "    sorted_columns.append(get_k_nearest_neighbors_columns_matrix(i))"
   ],
   "metadata": {
    "collapsed": false,
    "ExecuteTime": {
     "start_time": "2023-12-19T00:34:17.503940Z"
    }
   },
   "id": "789b5d943647c148"
  },
  {
   "cell_type": "code",
   "execution_count": 163,
   "outputs": [
    {
     "name": "stdout",
     "output_type": "stream",
     "text": [
      "3717\n",
      "3717\n"
     ]
    }
   ],
   "source": [
    "print(len(sorted_rows))\n",
    "print(len(sorted_columns))"
   ],
   "metadata": {
    "collapsed": false,
    "ExecuteTime": {
     "end_time": "2023-12-18T22:20:16.227515900Z",
     "start_time": "2023-12-18T22:20:16.223793500Z"
    }
   },
   "id": "71bf0b7d4e93baa6"
  },
  {
   "cell_type": "code",
   "execution_count": 155,
   "outputs": [],
   "source": [
    "def get_first_k_choices_rows_matrix(user_from_id, user_to_id, k):\n",
    "    choices = []\n",
    "    for similarity, neighbor_id in sorted_rows[user_from_id]:\n",
    "        if matrix[neighbor_id, user_to_id] == 1:\n",
    "            choices.append((neighbor_id, similarity, True))\n",
    "        if matrix[neighbor_id, user_to_id] == 0:\n",
    "            choices.append((neighbor_id, similarity, False))\n",
    "        if len(choices) == k:\n",
    "            break\n",
    "    return choices"
   ],
   "metadata": {
    "collapsed": false,
    "ExecuteTime": {
     "end_time": "2023-12-18T22:18:46.637502200Z",
     "start_time": "2023-12-18T22:18:46.621319200Z"
    }
   },
   "id": "dcf55934465d38ac"
  },
  {
   "cell_type": "code",
   "execution_count": 159,
   "outputs": [],
   "source": [
    "def get_first_k_choices_columns_matrix(user_from_id, user_to_id, k):\n",
    "    choices = []\n",
    "    for similarity, neighbor_id in sorted_columns[user_to_id]:\n",
    "        if matrix[user_from_id, neighbor_id] == 1:\n",
    "            choices.append((neighbor_id, similarity, True))\n",
    "        if matrix[user_from_id, neighbor_id] == 0:\n",
    "            choices.append((neighbor_id, similarity, False))\n",
    "        if len(choices) == k:\n",
    "            break\n",
    "    return choices"
   ],
   "metadata": {
    "collapsed": false,
    "ExecuteTime": {
     "end_time": "2023-12-18T22:19:04.267844400Z",
     "start_time": "2023-12-18T22:19:04.251704400Z"
    }
   },
   "id": "5f258f5f9b5c47a5"
  },
  {
   "cell_type": "code",
   "execution_count": 187,
   "outputs": [],
   "source": [
    "unknown = []\n",
    "def get_is_like_matrix(user_from_id, user_to_id) -> bool:\n",
    "    global unknown\n",
    "    if user_from_id > users_total or user_to_id > users_total:\n",
    "        return False\n",
    "    choices_rows = get_first_k_choices_rows_matrix(user_from_id, user_to_id, 1000)\n",
    "    choices_columns = get_first_k_choices_columns_matrix(user_from_id, user_to_id, 1000)\n",
    "    if len(choices_rows) == 0 and len(choices_columns) == 0:\n",
    "        return False\n",
    "    numerator, denominator = 0, 0\n",
    "    for choice in choices_rows:\n",
    "        numerator += choice[1] * choice[2]\n",
    "        denominator += 1\n",
    "    for choice in choices_columns:\n",
    "        numerator += choice[1] * choice[2]\n",
    "        denominator += 1\n",
    "    return numerator / denominator >= 0.5"
   ],
   "metadata": {
    "collapsed": false,
    "ExecuteTime": {
     "end_time": "2023-12-19T00:19:33.687315300Z",
     "start_time": "2023-12-19T00:19:33.682632Z"
    }
   },
   "id": "c70ec969a08cd6ac"
  },
  {
   "cell_type": "code",
   "execution_count": 188,
   "outputs": [
    {
     "name": "stdout",
     "output_type": "stream",
     "text": [
      "16203/16203\r"
     ]
    }
   ],
   "source": [
    "with open('submission.csv', 'w') as file:\n",
    "    file.write('index,is_like\\n')\n",
    "    for i in range(len(test_data)):\n",
    "        print(f'{i+1}/{len(test_data)}', end='\\r')\n",
    "        row = test_data.iloc[i]\n",
    "        user_from_id = row['user_from_id']\n",
    "        user_to_id = row['user_to_id']\n",
    "        is_like = get_is_like_matrix(user_from_id, user_to_id)\n",
    "        file.write(f'{i},{is_like}\\n')"
   ],
   "metadata": {
    "collapsed": false,
    "ExecuteTime": {
     "end_time": "2023-12-19T00:20:35.808446800Z",
     "start_time": "2023-12-19T00:19:34.809822400Z"
    }
   },
   "id": "a08a49c2da199e4d"
  },
  {
   "cell_type": "code",
   "execution_count": 183,
   "outputs": [
    {
     "name": "stdout",
     "output_type": "stream",
     "text": [
      "1890\n"
     ]
    }
   ],
   "source": [
    "print(len(unknown))"
   ],
   "metadata": {
    "collapsed": false,
    "ExecuteTime": {
     "end_time": "2023-12-19T00:13:13.990364600Z",
     "start_time": "2023-12-19T00:13:13.983261900Z"
    }
   },
   "id": "b7c7c09c1103106a"
  },
  {
   "cell_type": "code",
   "execution_count": 184,
   "outputs": [],
   "source": [
    "x, y = unknown[0]"
   ],
   "metadata": {
    "collapsed": false,
    "ExecuteTime": {
     "end_time": "2023-12-19T00:13:16.823377Z",
     "start_time": "2023-12-19T00:13:16.823377Z"
    }
   },
   "id": "1f2b347d385ae2d4"
  },
  {
   "cell_type": "code",
   "execution_count": 180,
   "outputs": [
    {
     "data": {
      "text/plain": "[(1.0, 1),\n (1.0, 2),\n (1.0, 3),\n (1.0, 6),\n (1.0, 8),\n (1.0, 19),\n (1.0, 20),\n (1.0, 21),\n (1.0, 25),\n (1.0, 28),\n (1.0, 29),\n (1.0, 30),\n (1.0, 31),\n (1.0, 33),\n (1.0, 36),\n (1.0, 37),\n (1.0, 38),\n (1.0, 43),\n (1.0, 50),\n (1.0, 56),\n (1.0, 57),\n (1.0, 58),\n (1.0, 61),\n (1.0, 62),\n (1.0, 63),\n (1.0, 64),\n (1.0, 65),\n (1.0, 66),\n (1.0, 68),\n (1.0, 69),\n (1.0, 70),\n (1.0, 75),\n (1.0, 83),\n (1.0, 90),\n (1.0, 91),\n (1.0, 92),\n (1.0, 93),\n (1.0, 101),\n (1.0, 107),\n (1.0, 108),\n (1.0, 111),\n (1.0, 117),\n (1.0, 127),\n (1.0, 132),\n (1.0, 142),\n (1.0, 150),\n (1.0, 153),\n (1.0, 155),\n (1.0, 156),\n (1.0, 166),\n (1.0, 170),\n (1.0, 174),\n (1.0, 175),\n (1.0, 190),\n (1.0, 191),\n (1.0, 192),\n (1.0, 197),\n (1.0, 203),\n (1.0, 208),\n (1.0, 210),\n (1.0, 213),\n (1.0, 215),\n (1.0, 217),\n (1.0, 220),\n (1.0, 225),\n (1.0, 228),\n (1.0, 233),\n (1.0, 234),\n (1.0, 242),\n (1.0, 245),\n (1.0, 252),\n (1.0, 253),\n (1.0, 254),\n (1.0, 255),\n (1.0, 257),\n (1.0, 259),\n (1.0, 260),\n (1.0, 261),\n (1.0, 263),\n (1.0, 266),\n (1.0, 268),\n (1.0, 275),\n (1.0, 276),\n (1.0, 277),\n (1.0, 281),\n (1.0, 282),\n (1.0, 283),\n (1.0, 286),\n (1.0, 290),\n (1.0, 291),\n (1.0, 292),\n (1.0, 294),\n (1.0, 296),\n (1.0, 297),\n (1.0, 298),\n (1.0, 310),\n (1.0, 311),\n (1.0, 312),\n (1.0, 315),\n (1.0, 321),\n (1.0, 322),\n (1.0, 325),\n (1.0, 331),\n (1.0, 332),\n (1.0, 333),\n (1.0, 335),\n (1.0, 336),\n (1.0, 337),\n (1.0, 340),\n (1.0, 344),\n (1.0, 345),\n (1.0, 351),\n (1.0, 355),\n (1.0, 358),\n (1.0, 361),\n (1.0, 365),\n (1.0, 366),\n (1.0, 367),\n (1.0, 368),\n (1.0, 371),\n (1.0, 373),\n (1.0, 376),\n (1.0, 377),\n (1.0, 378),\n (1.0, 379),\n (1.0, 380),\n (1.0, 381),\n (1.0, 384),\n (1.0, 386),\n (1.0, 388),\n (1.0, 389),\n (1.0, 390),\n (1.0, 391),\n (1.0, 392),\n (1.0, 393),\n (1.0, 395),\n (1.0, 397),\n (1.0, 400),\n (1.0, 403),\n (1.0, 407),\n (1.0, 412),\n (1.0, 415),\n (1.0, 419),\n (1.0, 424),\n (1.0, 426),\n (1.0, 428),\n (1.0, 429),\n (1.0, 432),\n (1.0, 434),\n (1.0, 438),\n (1.0, 440),\n (1.0, 441),\n (1.0, 442),\n (1.0, 444),\n (1.0, 446),\n (1.0, 451),\n (1.0, 455),\n (1.0, 456),\n (1.0, 457),\n (1.0, 458),\n (1.0, 467),\n (1.0, 470),\n (1.0, 477),\n (1.0, 478),\n (1.0, 481),\n (1.0, 482),\n (1.0, 485),\n (1.0, 489),\n (1.0, 497),\n (1.0, 499),\n (1.0, 503),\n (1.0, 506),\n (1.0, 508),\n (1.0, 509),\n (1.0, 510),\n (1.0, 511),\n (1.0, 513),\n (1.0, 517),\n (1.0, 518),\n (1.0, 533),\n (1.0, 540),\n (1.0, 552),\n (1.0, 553),\n (1.0, 554),\n (1.0, 555),\n (1.0, 556),\n (1.0, 558),\n (1.0, 559),\n (1.0, 565),\n (1.0, 566),\n (1.0, 568),\n (1.0, 573),\n (1.0, 575),\n (1.0, 576),\n (1.0, 577),\n (1.0, 581),\n (1.0, 582),\n (1.0, 583),\n (1.0, 584),\n (1.0, 586),\n (1.0, 588),\n (1.0, 590),\n (1.0, 591),\n (1.0, 592),\n (1.0, 593),\n (1.0, 598),\n (1.0, 599),\n (1.0, 600),\n (1.0, 601),\n (1.0, 602),\n (1.0, 603),\n (1.0, 604),\n (1.0, 605),\n (1.0, 606),\n (1.0, 608),\n (1.0, 609),\n (1.0, 611),\n (1.0, 613),\n (1.0, 614),\n (1.0, 616),\n (1.0, 619),\n (1.0, 620),\n (1.0, 624),\n (1.0, 626),\n (1.0, 629),\n (1.0, 638),\n (1.0, 639),\n (1.0, 642),\n (1.0, 643),\n (1.0, 644),\n (1.0, 645),\n (1.0, 663),\n (1.0, 665),\n (1.0, 667),\n (1.0, 673),\n (1.0, 684),\n (1.0, 685),\n (1.0, 688),\n (1.0, 693),\n (1.0, 697),\n (1.0, 701),\n (1.0, 702),\n (1.0, 703),\n (1.0, 705),\n (1.0, 708),\n (1.0, 709),\n (1.0, 712),\n (1.0, 714),\n (1.0, 715),\n (1.0, 722),\n (1.0, 724),\n (1.0, 725),\n (1.0, 728),\n (1.0, 730),\n (1.0, 733),\n (1.0, 734),\n (1.0, 735),\n (1.0, 738),\n (1.0, 742),\n (1.0, 745),\n (1.0, 747),\n (1.0, 765),\n (1.0, 767),\n (1.0, 770),\n (1.0, 771),\n (1.0, 772),\n (1.0, 773),\n (1.0, 774),\n (1.0, 775),\n (1.0, 776),\n (1.0, 779),\n (1.0, 781),\n (1.0, 782),\n (1.0, 783),\n (1.0, 784),\n (1.0, 790),\n (1.0, 794),\n (1.0, 795),\n (1.0, 797),\n (1.0, 798),\n (1.0, 799),\n (1.0, 801),\n (1.0, 802),\n (1.0, 806),\n (1.0, 807),\n (1.0, 813),\n (1.0, 814),\n (1.0, 820),\n (1.0, 821),\n (1.0, 822),\n (1.0, 824),\n (1.0, 829),\n (1.0, 834),\n (1.0, 835),\n (1.0, 836),\n (1.0, 838),\n (1.0, 839),\n (1.0, 841),\n (1.0, 843),\n (1.0, 844),\n (1.0, 846),\n (1.0, 847),\n (1.0, 849),\n (1.0, 852),\n (1.0, 853),\n (1.0, 855),\n (1.0, 856),\n (1.0, 857),\n (1.0, 859),\n (1.0, 866),\n (1.0, 867),\n (1.0, 868),\n (1.0, 869),\n (1.0, 870),\n (1.0, 871),\n (1.0, 872),\n (1.0, 874),\n (1.0, 875),\n (1.0, 876),\n (1.0, 877),\n (1.0, 878),\n (1.0, 879),\n (1.0, 880),\n (1.0, 881),\n (1.0, 884),\n (1.0, 885),\n (1.0, 886),\n (1.0, 887),\n (1.0, 888),\n (1.0, 890),\n (1.0, 891),\n (1.0, 894),\n (1.0, 895),\n (1.0, 898),\n (1.0, 901),\n (1.0, 902),\n (1.0, 904),\n (1.0, 905),\n (1.0, 906),\n (1.0, 912),\n (1.0, 914),\n (1.0, 915),\n (1.0, 916),\n (1.0, 917),\n (1.0, 918),\n (1.0, 920),\n (1.0, 921),\n (1.0, 924),\n (1.0, 934),\n (1.0, 943),\n (1.0, 944),\n (1.0, 945),\n (1.0, 946),\n (1.0, 948),\n (1.0, 949),\n (1.0, 950),\n (1.0, 956),\n (1.0, 959),\n (1.0, 961),\n (1.0, 963),\n (1.0, 979),\n (1.0, 981),\n (1.0, 983),\n (1.0, 984),\n (1.0, 990),\n (1.0, 1003),\n (1.0, 1005),\n (1.0, 1008),\n (1.0, 1010),\n (1.0, 1020),\n (1.0, 1021),\n (1.0, 1023),\n (1.0, 1024),\n (1.0, 1026),\n (1.0, 1028),\n (1.0, 1029),\n (1.0, 1033),\n (1.0, 1034),\n (1.0, 1035),\n (1.0, 1037),\n (1.0, 1038),\n (1.0, 1044),\n (1.0, 1045),\n (1.0, 1047),\n (1.0, 1048),\n (1.0, 1049),\n (1.0, 1050),\n (1.0, 1051),\n (1.0, 1053),\n (1.0, 1054),\n (1.0, 1056),\n (1.0, 1057),\n (1.0, 1058),\n (1.0, 1059),\n (1.0, 1060),\n (1.0, 1062),\n (1.0, 1065),\n (1.0, 1070),\n (1.0, 1072),\n (1.0, 1074),\n (1.0, 1075),\n (1.0, 1078),\n (1.0, 1082),\n (1.0, 1083),\n (1.0, 1084),\n (1.0, 1087),\n (1.0, 1088),\n (1.0, 1089),\n (1.0, 1091),\n (1.0, 1092),\n (1.0, 1096),\n (1.0, 1102),\n (1.0, 1107),\n (1.0, 1113),\n (1.0, 1121),\n (1.0, 1128),\n (1.0, 1138),\n (1.0, 1142),\n (1.0, 1145),\n (1.0, 1146),\n (1.0, 1152),\n (1.0, 1156),\n (1.0, 1160),\n (1.0, 1161),\n (1.0, 1162),\n (1.0, 1165),\n (1.0, 1170),\n (1.0, 1171),\n (1.0, 1174),\n (1.0, 1185),\n (1.0, 1186),\n (1.0, 1187),\n (1.0, 1195),\n (1.0, 1196),\n (1.0, 1204),\n (1.0, 1219),\n (1.0, 1220),\n (1.0, 1223),\n (1.0, 1225),\n (1.0, 1228),\n (1.0, 1232),\n (1.0, 1235),\n (1.0, 1243),\n (1.0, 1256),\n (1.0, 1258),\n (1.0, 1259),\n (1.0, 1262),\n (1.0, 1275),\n (1.0, 1281),\n (1.0, 1286),\n (1.0, 1290),\n (1.0, 1293),\n (1.0, 1296),\n (1.0, 1297),\n (1.0, 1298),\n (1.0, 1301),\n (1.0, 1304),\n (1.0, 1306),\n (1.0, 1307),\n (1.0, 1309),\n (1.0, 1311),\n (1.0, 1315),\n (1.0, 1318),\n (1.0, 1321),\n (1.0, 1323),\n (1.0, 1326),\n (1.0, 1331),\n (1.0, 1334),\n (1.0, 1339),\n (1.0, 1343),\n (1.0, 1344),\n (1.0, 1345),\n (1.0, 1348),\n (1.0, 1354),\n (1.0, 1355),\n (1.0, 1356),\n (1.0, 1357),\n (1.0, 1358),\n (1.0, 1359),\n (1.0, 1362),\n (1.0, 1380),\n (1.0, 1382),\n (1.0, 1384),\n (1.0, 1386),\n (1.0, 1387),\n (1.0, 1388),\n (1.0, 1392),\n (1.0, 1397),\n (1.0, 1398),\n (1.0, 1400),\n (1.0, 1403),\n (1.0, 1405),\n (1.0, 1406),\n (1.0, 1417),\n (1.0, 1418),\n (1.0, 1425),\n (1.0, 1426),\n (1.0, 1431),\n (1.0, 1434),\n (1.0, 1435),\n (1.0, 1437),\n (1.0, 1449),\n (1.0, 1451),\n (1.0, 1468),\n (1.0, 1469),\n (1.0, 1470),\n (1.0, 1478),\n (1.0, 1481),\n (1.0, 1483),\n (1.0, 1486),\n (1.0, 1489),\n (1.0, 1490),\n (1.0, 1492),\n (1.0, 1497),\n (1.0, 1503),\n (1.0, 1506),\n (1.0, 1515),\n (1.0, 1533),\n (1.0, 1538),\n (1.0, 1541),\n (1.0, 1542),\n (1.0, 1547),\n (1.0, 1548),\n (1.0, 1549),\n (1.0, 1567),\n (1.0, 1574),\n (1.0, 1577),\n (1.0, 1579),\n (1.0, 1584),\n (1.0, 1586),\n (1.0, 1587),\n (1.0, 1591),\n (1.0, 1594),\n (1.0, 1606),\n (1.0, 1608),\n (1.0, 1610),\n (1.0, 1615),\n (1.0, 1618),\n (1.0, 1619),\n (1.0, 1622),\n (1.0, 1623),\n (1.0, 1625),\n (1.0, 1628),\n (1.0, 1633),\n (1.0, 1639),\n (1.0, 1646),\n (1.0, 1648),\n (1.0, 1649),\n (1.0, 1650),\n (1.0, 1655),\n (1.0, 1660),\n (1.0, 1662),\n (1.0, 1669),\n (1.0, 1670),\n (1.0, 1676),\n (1.0, 1680),\n (1.0, 1686),\n (1.0, 1691),\n (1.0, 1694),\n (1.0, 1698),\n (1.0, 1704),\n (1.0, 1716),\n (1.0, 1717),\n (1.0, 1718),\n (1.0, 1724),\n (1.0, 1725),\n (1.0, 1726),\n (1.0, 1728),\n (1.0, 1730),\n (1.0, 1738),\n (1.0, 1745),\n (1.0, 1750),\n (1.0, 1751),\n (1.0, 1754),\n (1.0, 1763),\n (1.0, 1764),\n (1.0, 1767),\n (1.0, 1769),\n (1.0, 1770),\n (1.0, 1774),\n (1.0, 1775),\n (1.0, 1777),\n (1.0, 1778),\n (1.0, 1780),\n (1.0, 1785),\n (1.0, 1788),\n (1.0, 1789),\n (1.0, 1792),\n (1.0, 1793),\n (1.0, 1795),\n (1.0, 1799),\n (1.0, 1800),\n (1.0, 1809),\n (1.0, 1813),\n (1.0, 1819),\n (1.0, 1820),\n (1.0, 1821),\n (1.0, 1825),\n (1.0, 1829),\n (1.0, 1831),\n (1.0, 1836),\n (1.0, 1840),\n (1.0, 1849),\n (1.0, 1853),\n (1.0, 1860),\n (1.0, 1863),\n (1.0, 1866),\n (1.0, 1870),\n (1.0, 1874),\n (1.0, 1895),\n (1.0, 1897),\n (1.0, 1907),\n (1.0, 1914),\n (1.0, 1916),\n (1.0, 1917),\n (1.0, 1919),\n (1.0, 1922),\n (1.0, 1923),\n (1.0, 1926),\n (1.0, 1928),\n (1.0, 1931),\n (1.0, 1949),\n (1.0, 1958),\n (1.0, 1959),\n (1.0, 1961),\n (1.0, 1966),\n (1.0, 1967),\n (1.0, 1968),\n (1.0, 1972),\n (1.0, 1973),\n (1.0, 1974),\n (1.0, 1975),\n (1.0, 1976),\n (1.0, 1990),\n (1.0, 1991),\n (1.0, 1992),\n (1.0, 1995),\n (1.0, 2003),\n (1.0, 2007),\n (1.0, 2012),\n (1.0, 2016),\n (1.0, 2019),\n (1.0, 2020),\n (1.0, 2028),\n (1.0, 2029),\n (1.0, 2032),\n (1.0, 2035),\n (1.0, 2038),\n (1.0, 2043),\n (1.0, 2044),\n (1.0, 2046),\n (1.0, 2051),\n (1.0, 2052),\n (1.0, 2056),\n (1.0, 2059),\n (1.0, 2062),\n (1.0, 2063),\n (1.0, 2065),\n (1.0, 2066),\n (1.0, 2068),\n (1.0, 2069),\n (1.0, 2070),\n (1.0, 2086),\n (1.0, 2090),\n (1.0, 2093),\n (1.0, 2094),\n (1.0, 2097),\n (1.0, 2101),\n (1.0, 2103),\n (1.0, 2105),\n (1.0, 2106),\n (1.0, 2109),\n (1.0, 2121),\n (1.0, 2123),\n (1.0, 2124),\n (1.0, 2129),\n (1.0, 2133),\n (1.0, 2135),\n (1.0, 2149),\n (1.0, 2155),\n (1.0, 2157),\n (1.0, 2159),\n (1.0, 2164),\n (1.0, 2170),\n (1.0, 2174),\n (1.0, 2186),\n (1.0, 2191),\n (1.0, 2194),\n (1.0, 2196),\n (1.0, 2197),\n (1.0, 2210),\n (1.0, 2213),\n (1.0, 2214),\n (1.0, 2215),\n (1.0, 2217),\n (1.0, 2220),\n (1.0, 2226),\n (1.0, 2232),\n (1.0, 2236),\n (1.0, 2238),\n (1.0, 2242),\n (1.0, 2245),\n (1.0, 2247),\n (1.0, 2249),\n (1.0, 2251),\n (1.0, 2256),\n (1.0, 2257),\n (1.0, 2264),\n (1.0, 2276),\n (1.0, 2278),\n (1.0, 2297),\n (1.0, 2298),\n (1.0, 2301),\n (1.0, 2302),\n (1.0, 2303),\n (1.0, 2307),\n (1.0, 2316),\n (1.0, 2321),\n (1.0, 2324),\n (1.0, 2343),\n (1.0, 2344),\n (1.0, 2350),\n (1.0, 2351),\n (1.0, 2355),\n (1.0, 2356),\n (1.0, 2360),\n (1.0, 2362),\n (1.0, 2374),\n (1.0, 2375),\n (1.0, 2376),\n (1.0, 2381),\n (1.0, 2386),\n (1.0, 2390),\n (1.0, 2401),\n (1.0, 2410),\n (1.0, 2413),\n (1.0, 2414),\n (1.0, 2418),\n (1.0, 2441),\n (1.0, 2445),\n (1.0, 2446),\n (1.0, 2447),\n (1.0, 2462),\n (1.0, 2474),\n (1.0, 2478),\n (1.0, 2483),\n (1.0, 2485),\n (1.0, 2488),\n (1.0, 2496),\n (1.0, 2505),\n (1.0, 2508),\n (1.0, 2510),\n (1.0, 2513),\n (1.0, 2514),\n (1.0, 2535),\n (1.0, 2537),\n (1.0, 2565),\n (1.0, 2572),\n (1.0, 2575),\n (1.0, 2589),\n (1.0, 2598),\n (1.0, 2612),\n (1.0, 2623),\n (1.0, 2624),\n (1.0, 2643),\n (1.0, 2646),\n (1.0, 2647),\n (1.0, 2654),\n (1.0, 2655),\n (1.0, 2659),\n (1.0, 2663),\n (1.0, 2685),\n (1.0, 2693),\n (1.0, 2697),\n (1.0, 2699),\n (1.0, 2700),\n (1.0, 2705),\n (1.0, 2706),\n (1.0, 2707),\n (1.0, 2713),\n (1.0, 2723),\n (1.0, 2732),\n (1.0, 2733),\n (1.0, 2762),\n (1.0, 2764),\n (1.0, 2769),\n (1.0, 2779),\n (1.0, 2784),\n (1.0, 2788),\n (1.0, 2792),\n (1.0, 2793),\n (1.0, 2795),\n (1.0, 2797),\n (1.0, 2800),\n (1.0, 2802),\n (1.0, 2838),\n (1.0, 2839),\n (1.0, 2856),\n (1.0, 2858),\n (1.0, 2864),\n (1.0, 2891),\n (1.0, 2898),\n (1.0, 2907),\n (1.0, 2908),\n (1.0, 2910),\n (1.0, 2911),\n (1.0, 2913),\n (1.0, 2921),\n (1.0, 2929),\n (1.0, 2931),\n (1.0, 2933),\n (1.0, 2939),\n (1.0, 2949),\n (1.0, 2962),\n (1.0, 2967),\n (1.0, 2969),\n (1.0, 2973),\n (1.0, 2986),\n (1.0, 2990),\n (1.0, 2993),\n (1.0, 2998),\n (1.0, 3012),\n (1.0, 3017),\n (1.0, 3019),\n (1.0, 3026),\n (1.0, 3030),\n (1.0, 3043),\n (1.0, 3048),\n (1.0, 3057),\n (1.0, 3060),\n (1.0, 3064),\n (1.0, 3066),\n (1.0, 3074),\n (1.0, 3078),\n (1.0, 3081),\n (1.0, 3084),\n (1.0, 3087),\n (1.0, 3102),\n (1.0, 3112),\n (1.0, 3121),\n (1.0, 3132),\n (1.0, 3136),\n (1.0, 3149),\n (1.0, 3155),\n (1.0, 3169),\n (1.0, 3174),\n (1.0, 3180),\n (1.0, 3190),\n (1.0, 3198),\n (1.0, 3201),\n (1.0, 3223),\n (1.0, 3232),\n (1.0, 3262),\n (1.0, 3268),\n (1.0, 3286),\n (1.0, 3293),\n (1.0, 3298),\n (1.0, 3305),\n (1.0, 3318),\n (1.0, 3322),\n (1.0, 3324),\n (1.0, 3326),\n (1.0, 3335),\n (1.0, 3347),\n (1.0, 3357),\n (1.0, 3365),\n (1.0, 3368),\n (1.0, 3375),\n (1.0, 3390),\n (1.0, 3393),\n (1.0, 3404),\n (1.0, 3406),\n (1.0, 3418),\n (1.0, 3422),\n (1.0, 3427),\n (1.0, 3428),\n (1.0, 3432),\n (1.0, 3440),\n (1.0, 3454),\n (1.0, 3478),\n (1.0, 3480),\n (1.0, 3514),\n (1.0, 3518),\n (1.0, 3539),\n (1.0, 3547),\n (1.0, 3558),\n (1.0, 3560),\n (1.0, 3565),\n (1.0, 3573),\n (1.0, 3585),\n (1.0, 3592),\n (1.0, 3594),\n (1.0, 3601),\n (1.0, 3612),\n (1.0, 3615),\n (1.0, 3619),\n (1.0, 3620),\n (0.9333333333333333, 1383),\n (0.9, 1238),\n (0.875, 430),\n (0.875, 2509),\n (0.8571428571428571, 585),\n (0.8571428571428571, 1791),\n (0.8571428571428571, 2555),\n (0.8333333333333334, 416),\n (0.8333333333333334, 699),\n (0.8333333333333334, 2887),\n (0.8, 1407),\n (0.8, 1605),\n (0.75, 433),\n (0.75, 976),\n (0.75, 1242),\n (0.75, 1857),\n (0.6666666666666666, 449),\n (0.6666666666666666, 826),\n (0.6666666666666666, 862),\n (0.6666666666666666, 958),\n (0.6666666666666666, 2137),\n (0.5, 49),\n (0.5, 94),\n (0.5, 212),\n (0.5, 278),\n (0.5, 301),\n (0.5, 309),\n (0.5, 334),\n (0.5, 452),\n (0.5, 453),\n (0.5, 484),\n (0.5, 496),\n (0.5, 578),\n (0.5, 579),\n (0.5, 793),\n (0.5, 989),\n (0.5, 1921),\n (0.5, 1978),\n (0.5, 2006),\n (0.5, 2015),\n (0.5, 2136),\n (0.5, 2580),\n (0.3333333333333333, 1086),\n (0, 0),\n (0, 4),\n (0, 5),\n (0, 7),\n (0, 9),\n (0, 10),\n (0, 11),\n (0, 12),\n (0, 13),\n (0, 14),\n (0, 15),\n (0, 16),\n (0, 17),\n (0, 18),\n (0, 22),\n (0, 23),\n (0, 24),\n (0, 26),\n (0, 27),\n (0, 32),\n (0, 34),\n (0, 35),\n (0, 39),\n (0, 40),\n (0, 41),\n (0, 42),\n (0, 44),\n (0, 45),\n (0, 46),\n (0, 47),\n (0.0, 48),\n (0, 51),\n (0.0, 52),\n (0, 53),\n (0, 54),\n (0, 55),\n (0.0, 59),\n (0, 60),\n (0, 67),\n (0, 71),\n (0, 72),\n (0.0, 73),\n (0, 74),\n (0, 76),\n (0, 77),\n (0, 78),\n (0, 79),\n (0.0, 80),\n (0.0, 81),\n (0, 82),\n (0, 84),\n (0, 85),\n (0, 86),\n (0, 87),\n (0, 88),\n (0, 89),\n (0.0, 95),\n (0, 96),\n (0, 97),\n (0, 98),\n ...]"
     },
     "execution_count": 180,
     "metadata": {},
     "output_type": "execute_result"
    }
   ],
   "source": [
    "sorted_rows[x]"
   ],
   "metadata": {
    "collapsed": false,
    "ExecuteTime": {
     "end_time": "2023-12-19T00:09:02.601789400Z",
     "start_time": "2023-12-19T00:09:02.574326300Z"
    }
   },
   "id": "ef7da127704ce24c"
  },
  {
   "cell_type": "code",
   "execution_count": null,
   "outputs": [],
   "source": [],
   "metadata": {
    "collapsed": false
   },
   "id": "e86eec05dd396fe2"
  }
 ],
 "metadata": {
  "kernelspec": {
   "display_name": "Python 3",
   "language": "python",
   "name": "python3"
  },
  "language_info": {
   "codemirror_mode": {
    "name": "ipython",
    "version": 2
   },
   "file_extension": ".py",
   "mimetype": "text/x-python",
   "name": "python",
   "nbconvert_exporter": "python",
   "pygments_lexer": "ipython2",
   "version": "2.7.6"
  }
 },
 "nbformat": 4,
 "nbformat_minor": 5
}
